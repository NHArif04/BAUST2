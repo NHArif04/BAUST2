{
 "cells": [
  {
   "cell_type": "code",
   "execution_count": null,
   "metadata": {},
   "outputs": [],
   "source": [
    "from scipy.linalg import lu_factor, lu_solve\n",
    "from numpy import array\n",
    "\n",
    "A = array([[1, 1, 1], [4, 3, -1], [3, 5, 3]])\n",
    "B = array([[1], [6], [4]])\n",
    "\n",
    "# Compute the LU decomposition of A\n",
    "lu, piv = lu_factor(A)\n",
    "\n",
    "#what are lu and piv representing here?\n",
    "\n",
    "\n",
    "# Solve the system of equations using LU decomposition\n",
    "X = lu_solve((lu, piv), B)\n",
    "\n",
    "print(f\"A = {A}\\n\\nB = {B}\\n\\n LU = {lu}\\n\\nPIV = {piv}\\n\\nX = {X}\")\n"
   ]
  }
 ],
 "metadata": {
  "kernelspec": {
   "display_name": "Python 3",
   "language": "python",
   "name": "python3"
  },
  "language_info": {
   "codemirror_mode": {
    "name": "ipython",
    "version": 3
   },
   "file_extension": ".py",
   "mimetype": "text/x-python",
   "name": "python",
   "nbconvert_exporter": "python",
   "pygments_lexer": "ipython3",
   "version": "3.11.0"
  },
  "orig_nbformat": 4
 },
 "nbformat": 4,
 "nbformat_minor": 2
}
