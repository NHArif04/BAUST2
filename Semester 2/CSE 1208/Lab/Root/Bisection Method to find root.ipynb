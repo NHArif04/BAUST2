{
 "cells": [
  {
   "cell_type": "code",
   "execution_count": 1,
   "metadata": {},
   "outputs": [
    {
     "name": "stdout",
     "output_type": "stream",
     "text": [
      "The root of the equation is approximately: 0.0\n"
     ]
    }
   ],
   "source": [
    "def bisection_method(f, a, b, tol):\n",
    "    while (b - a) / 2 > tol:\n",
    "        c = (a + b) / 2\n",
    "        if f(c) == 0:\n",
    "            return c\n",
    "        elif f(c) * f(a) < 0:\n",
    "            b = c\n",
    "        else:\n",
    "            a = c\n",
    "    return (a + b) / 2\n",
    "\n",
    "def f(x):\n",
    "    return eval(input(\"Enter the function f(x): \"))\n",
    "\n",
    "a = float(input(\"Enter the initial guess for a: \"))\n",
    "b = float(input(\"Enter the initial guess for b: \"))\n",
    "tol = float(input(\"Enter the desired level of accuracy: \"))\n",
    "root = bisection_method(f, a, b, tol)\n",
    "print(\"The root of the equation is approximately:\", root)\n"
   ]
  }
 ],
 "metadata": {
  "kernelspec": {
   "display_name": "Python 3",
   "language": "python",
   "name": "python3"
  },
  "language_info": {
   "codemirror_mode": {
    "name": "ipython",
    "version": 3
   },
   "file_extension": ".py",
   "mimetype": "text/x-python",
   "name": "python",
   "nbconvert_exporter": "python",
   "pygments_lexer": "ipython3",
   "version": "3.11.0"
  },
  "orig_nbformat": 4
 },
 "nbformat": 4,
 "nbformat_minor": 2
}
