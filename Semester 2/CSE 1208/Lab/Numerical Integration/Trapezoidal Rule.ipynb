{
 "cells": [
  {
   "attachments": {},
   "cell_type": "markdown",
   "metadata": {},
   "source": [
    "from 1-2 and h=0.2"
   ]
  },
  {
   "cell_type": "code",
   "execution_count": 9,
   "metadata": {},
   "outputs": [
    {
     "name": "stdout",
     "output_type": "stream",
     "text": [
      "0.9615384615384615\n",
      "0.8620689655172413\n",
      "0.7352941176470588\n",
      "0.6097560975609756\n",
      "0.5\n"
     ]
    }
   ],
   "source": [
    "from numpy import *\n",
    "x=zeros(7)\n",
    "y=zeros(7)\n",
    "def fx(x):\n",
    "    return 1/(1+x**2)\n",
    "h=0.2\n",
    "sum = 0\n",
    "for i in range(1,6):\n",
    "    x[i] = h + x[i-1]\n",
    "for i in range(1,6):\n",
    "    y[i]=fx(x[i])\n",
    "for i in range(1,6):\n",
    "    print(y[i])"
   ]
  },
  {
   "attachments": {},
   "cell_type": "markdown",
   "metadata": {},
   "source": [
    "from 0 - 1 and h = 1/6"
   ]
  },
  {
   "cell_type": "code",
   "execution_count": 4,
   "metadata": {},
   "outputs": [
    {
     "name": "stdout",
     "output_type": "stream",
     "text": [
      "[0.         0.16666667 0.33333333 0.5        0.66666667 0.83333333\n",
      " 1.        ]\n",
      "0.972972972972973\n",
      "0.8999999999999999\n",
      "0.8\n",
      "0.6923076923076923\n",
      "0.5901639344262296\n",
      "0.5\n",
      "0.7009074332844826\n"
     ]
    }
   ],
   "source": [
    "from numpy import *\n",
    "x=zeros(7)\n",
    "y=zeros(7)\n",
    "def fx(x):\n",
    "    return 1/(1+x**2)\n",
    "h=1/6   # h=(upper-lower)/6\n",
    "sum = 0\n",
    "for i in range(1,7):\n",
    "    x[i] = i*h + x[0]\n",
    "for i in range(1,7):\n",
    "    y[i]=fx(x[i])   \n",
    "print(x)\n",
    "for i in range(1,7):\n",
    "    print(y[i])\n",
    "\n",
    "for i in range(0,7):\n",
    "    if i==0 or i==6:\n",
    "        sum+=y[i]\n",
    "    else :\n",
    "        sum+= (2*y[i])\n",
    "\n",
    "\n",
    "sum= sum*h/2\n",
    "print(sum)"
   ]
  },
  {
   "attachments": {},
   "cell_type": "markdown",
   "metadata": {},
   "source": [
    "Trapezoidal Method"
   ]
  },
  {
   "cell_type": "code",
   "execution_count": null,
   "metadata": {},
   "outputs": [],
   "source": [
    "def f(x):\n",
    "    return 1/(1+x**2)\n",
    "def trapezoidal(a,b,n):\n",
    "       "
   ]
  }
 ],
 "metadata": {
  "kernelspec": {
   "display_name": "Python 3",
   "language": "python",
   "name": "python3"
  },
  "language_info": {
   "codemirror_mode": {
    "name": "ipython",
    "version": 3
   },
   "file_extension": ".py",
   "mimetype": "text/x-python",
   "name": "python",
   "nbconvert_exporter": "python",
   "pygments_lexer": "ipython3",
   "version": "3.11.0"
  },
  "orig_nbformat": 4
 },
 "nbformat": 4,
 "nbformat_minor": 2
}
